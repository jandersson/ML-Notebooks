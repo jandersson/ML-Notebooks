{
 "cells": [
  {
   "cell_type": "markdown",
   "metadata": {},
   "source": [
    "# Decision Tree's\n",
    "\n",
    "A learning algorithm that uses _information gain_ to measure how well a feature of the data distinguishes between different classes. Information gain is measured in terms of _entropy_.\n",
    "\n",
    "Decision Tree's can be thought of as a compact representation of a function. In a binary classification scenario, this would mean that a decision tree represents a truth table. Decision tree's attempt to predict a qualitative (categorical) response by stratifying the predictor space into simpler regions. Concretely, the prediction space is divided into regions representing classes. Decision tree's can also be used in regression scenarios."
   ]
  },
  {
   "cell_type": "markdown",
   "metadata": {},
   "source": [
    "## MONK Dataset\n",
    "\n",
    "In this notebook we'll use the [MONK Dataset](https://archive.ics.uci.edu/ml/datasets/MONK's+Problems) from UC Irvine's Machine Learning Repository. The MONK dataset is a collection of artificial data which spans two classes and distributed by some underlying function.\n",
    "\n",
    "### True Functions\n",
    "\n",
    "* MONK-1: $(a_1 = a_2) \\wedge (a_5 = 1)$\n",
    "* MONK-2: $a_i = 1 \\text{ for exactly two } i \\in \\{1,2,\\ldots,6\\}$ \n",
    "* MONK-3: $(a_5 = 1 \\wedge a_4 = 1) \\vee (a_5 \\neq 4 \\wedge a_2 \\neq 3)$\n",
    "\n",
    "MONK-3 contains misclassified data (5%). In the case of noisy data, the learning algorithm may generate only partially consistent rules."
   ]
  },
  {
   "cell_type": "markdown",
   "metadata": {},
   "source": [
    "### Loading Data\n",
    "\n",
    "Data will be accessible via a dictionary, e.g. `data['monks-1']['train']`"
   ]
  },
  {
   "cell_type": "code",
   "execution_count": 64,
   "metadata": {},
   "outputs": [
    {
     "name": "stdout",
     "output_type": "stream",
     "text": [
      "A single example from MONK-1\n",
      " 1 1 1 1 1 3 1 data_5\n",
      "\n"
     ]
    }
   ],
   "source": [
    "from pathlib import Path\n",
    "\n",
    "data_path = Path(__name__).resolve().parents[1] / 'data' / 'MONK'\n",
    "m1_train = data_path / 'monks-1.train'\n",
    "print(\"A single example from MONK-1\")\n",
    "with m1_train.open() as f: \n",
    "    print(f.readline())"
   ]
  },
  {
   "cell_type": "markdown",
   "metadata": {},
   "source": [
    "Attribute information:\n",
    "  1. class: 0, 1 \n",
    "  2. a1:    1, 2, 3\n",
    "  3. a2:    1, 2, 3\n",
    "  4. a3:    1, 2\n",
    "  5. a4:    1, 2, 3\n",
    "  6. a5:    1, 2, 3, 4\n",
    "  7. a6:    1, 2\n",
    "  8. Id:    (A unique symbol for each instance)"
   ]
  },
  {
   "cell_type": "code",
   "execution_count": 65,
   "metadata": {},
   "outputs": [
    {
     "name": "stdout",
     "output_type": "stream",
     "text": [
      "Loaded monks-1 train dataset\n",
      "Loaded monks-1 test dataset\n",
      "Loaded monks-2 train dataset\n",
      "Loaded monks-2 test dataset\n",
      "Loaded monks-3 train dataset\n",
      "Loaded monks-3 test dataset\n"
     ]
    }
   ],
   "source": [
    "from typing import NamedTuple\n",
    "\n",
    "data = {\n",
    "    'monks-1': {\n",
    "        'train': [],\n",
    "        'test': [],\n",
    "    },\n",
    "    'monks-2': {\n",
    "        'train': [],\n",
    "        'test': [],\n",
    "    },\n",
    "    'monks-3': {\n",
    "        'train': [],\n",
    "        'test': [],\n",
    "    },\n",
    "}\n",
    "\n",
    "class MonkDatum(NamedTuple):\n",
    "    a: list\n",
    "    label: int\n",
    "    symbol: str\n",
    "        \n",
    "for key, subkeys in data.items():\n",
    "    for subkey in subkeys:\n",
    "        data_file = data_path / f\"{key}.{subkey}\"\n",
    "        with data_file.open() as f:\n",
    "            data[key][subkey] = [MonkDatum(a=line[1:7], label=line[0], symbol=line[7]) for line in (line.split() for line in f.readlines())]\n",
    "        print(f\"Loaded {key} {subkey} dataset\")"
   ]
  },
  {
   "cell_type": "markdown",
   "metadata": {},
   "source": [
    "## Entropy\n",
    "\n",
    "Entropy is a measure of information. In natural language processing, entropy can be a measure of how much information there is in a grammar or how well a grammar fits a language. To compute entropy, establish a random variable $S$ over the class labels. . The entropy of any $S$ is.\n",
    "\n",
    "\\begin{equation}\n",
    "\\text{Entropy}(S) = - \\sum_ip_i\\log_2p_i\n",
    "\\end{equation}\n",
    "\n",
    "$S$: A collection of samples\n",
    "\n",
    "$p_i$: Proportion of examples of class $i$ in $S$. This is a probability function $p(x)$\n",
    "\n",
    "In a binary classification problem, $\\{0, 1\\} \\in S$, and the entropy of $S$ would become:\n",
    "\n",
    "\\begin{equation}\n",
    "\\text{Entropy}(S) = - p_0 \\log_2 p_0 - p_1 \\log_2 p_1\n",
    "\\end{equation}\n",
    "\n",
    "The log can be measured in any base. In base 2, the units of entropy are *bits*. The intuition behind entropy is to think of it as a lower bound on the number of bits needed for an optimal length encoding scheme for some piece of information. \n",
    "\n"
   ]
  },
  {
   "cell_type": "code",
   "execution_count": null,
   "metadata": {
    "collapsed": true
   },
   "outputs": [],
   "source": [
    "\n",
    "\n",
    "def entropy(S, p):\n",
    "    \"\"\"Compute entropy of S given probability function p\"\"\"\n",
    "    pass"
   ]
  }
 ],
 "metadata": {
  "kernelspec": {
   "display_name": "Python 3",
   "language": "python",
   "name": "python3"
  },
  "language_info": {
   "codemirror_mode": {
    "name": "ipython",
    "version": 3
   },
   "file_extension": ".py",
   "mimetype": "text/x-python",
   "name": "python",
   "nbconvert_exporter": "python",
   "pygments_lexer": "ipython3",
   "version": "3.6.2"
  },
  "toc": {
   "colors": {
    "hover_highlight": "#DAA520",
    "navigate_num": "#000000",
    "navigate_text": "#333333",
    "running_highlight": "#FF0000",
    "selected_highlight": "#FFD700",
    "sidebar_border": "#EEEEEE",
    "wrapper_background": "#FFFFFF"
   },
   "moveMenuLeft": true,
   "nav_menu": {
    "height": "102px",
    "width": "252px"
   },
   "navigate_menu": true,
   "number_sections": true,
   "sideBar": true,
   "threshold": 4,
   "toc_cell": false,
   "toc_section_display": "block",
   "toc_window_display": false,
   "widenNotebook": false
  }
 },
 "nbformat": 4,
 "nbformat_minor": 2
}
